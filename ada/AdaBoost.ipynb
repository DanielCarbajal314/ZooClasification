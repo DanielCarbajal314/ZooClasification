{
 "cells": [
  {
   "cell_type": "code",
   "execution_count": 69,
   "metadata": {
    "collapsed": false
   },
   "outputs": [],
   "source": [
    "from data.GetGeneralData import GetGeneralData\n",
    "from data.GetAnimalType import GetAnimalType"
   ]
  },
  {
   "cell_type": "code",
   "execution_count": 71,
   "metadata": {
    "collapsed": false
   },
   "outputs": [],
   "source": [
    "import numpy as np\n",
    "import matplotlib.pyplot as plt\n",
    "\n",
    "from sklearn.ensemble import AdaBoostClassifier\n",
    "from sklearn.tree import DecisionTreeClassifier\n",
    "from sklearn.metrics import classification_report, confusion_matrix"
   ]
  },
  {
   "cell_type": "code",
   "execution_count": 13,
   "metadata": {
    "collapsed": false
   },
   "outputs": [],
   "source": [
    "X_train, X_test, y_train, y_test = GetGeneralData()"
   ]
  },
  {
   "cell_type": "code",
   "execution_count": 67,
   "metadata": {
    "collapsed": true
   },
   "outputs": [],
   "source": [
    "def getLabeledResult(predictions):\n",
    "    animalTypeNames = []\n",
    "    for result in predictions: \n",
    "        animalTypeName = GetAnimalType(result)\n",
    "        animalTypeNames.append(animalTypeName)\n",
    "    return animalTypeNames"
   ]
  },
  {
   "cell_type": "code",
   "execution_count": 20,
   "metadata": {
    "collapsed": false
   },
   "outputs": [
    {
     "name": "stdout",
     "output_type": "stream",
     "text": [
      "Mejor valor de n_estimators : 2\n",
      "Exactitud de RandomForest en conjunto de entrenamiento : 1.0\n",
      "Exactitud de RandomForest en conjunto de validación    : 1.0\n"
     ]
    }
   ],
   "source": [
    "from sklearn.ensemble import RandomForestClassifier\n",
    "\n",
    "mejor_score = 0\n",
    "mejor_n_estimators = None\n",
    "mejor_modelo_rf = None\n",
    "rf_error_train = []\n",
    "rf_error_val = []\n",
    "\n",
    "n_estimators_grid = np.linspace(2,80,40).astype(int)\n",
    "\n",
    "for n_estimators in n_estimators_grid: \n",
    "    modelo_rf = RandomForestClassifier(n_estimators=n_estimators, random_state=0)\n",
    "    modelo_rf.fit(X_train, y_train)\n",
    "    \n",
    "    score_train = modelo_rf.score(X_train, y_train)\n",
    "    rf_error_train.append(1 - score_train)\n",
    "    \n",
    "    score_val = modelo_rf.score(X_test, y_test)\n",
    "    rf_error_val.append(1 - score_val)\n",
    "    \n",
    "    if score_val > mejor_score: \n",
    "        mejor_score = score_val\n",
    "        mejor_n_estimators = n_estimators\n",
    "        mejor_modelo_rf = modelo_rf\n",
    "\n",
    "modelo_rf = mejor_modelo_rf\n",
    "modelo_rf.fit(X_train, y_train)\n",
    "\n",
    "print (\"Mejor valor de n_estimators :\", mejor_n_estimators)\n",
    "print (\"Exactitud de RandomForest en conjunto de entrenamiento :\", modelo_rf.score(X_train, y_train))\n",
    "print (\"Exactitud de RandomForest en conjunto de validación    :\", modelo_rf.score(X_test, y_test))"
   ]
  },
  {
   "cell_type": "code",
   "execution_count": 72,
   "metadata": {
    "collapsed": false
   },
   "outputs": [
    {
     "name": "stdout",
     "output_type": "stream",
     "text": [
      "[[ 8  0  0  0  0  0  0]\n",
      " [ 0 10  0  0  0  0  0]\n",
      " [ 0  0  9  0  0  0  0]\n",
      " [ 0  0  0  9  0  0  0]\n",
      " [ 0  0  0  0  9  0  0]\n",
      " [ 0  0  0  0  0  7  0]\n",
      " [ 0  0  0  0  0  0  6]]\n",
      "             precision    recall  f1-score   support\n",
      "\n",
      "  Amphibian       1.00      1.00      1.00         8\n",
      "       Bird       1.00      1.00      1.00        10\n",
      "        Bug       1.00      1.00      1.00         9\n",
      "       Fish       1.00      1.00      1.00         9\n",
      "Invertebrat       1.00      1.00      1.00         9\n",
      "     Mammal       1.00      1.00      1.00         7\n",
      "    Reptile       1.00      1.00      1.00         6\n",
      "\n",
      "avg / total       1.00      1.00      1.00        58\n",
      "\n"
     ]
    }
   ],
   "source": [
    "predictions = modelo_rf.predict(X_test)\n",
    "predictedNames = getLabeledResult(predictions)\n",
    "testNames = getLabeledResult(Y_test)\n",
    "print(confusion_matrix(testNames, predictedNames))\n",
    "print(classification_report(testNames, predictedNames))"
   ]
  },
  {
   "cell_type": "code",
   "execution_count": 15,
   "metadata": {
    "collapsed": false
   },
   "outputs": [
    {
     "name": "stdout",
     "output_type": "stream",
     "text": [
      "Mejor valor de min_samples_leaf : 1\n",
      "Exactitud de AdaBoost en conjunto de entrenamiento : 1.0\n",
      "Exactitud de AdaBoost en conjunto de validación    : 1.0\n"
     ]
    }
   ],
   "source": [
    "n_estimators=200\n",
    "min_samples_leaf_grid = np.linspace(1,10,10).astype(int) \n",
    "\n",
    "mejor_score = 0\n",
    "mejor_min_samples_leaf = None\n",
    "\n",
    "for min_samples_leaf in min_samples_leaf_grid: \n",
    "    base_estimator = DecisionTreeClassifier(min_samples_leaf=min_samples_leaf, random_state=0)\n",
    "    modelo_ab = AdaBoostClassifier(base_estimator=base_estimator, n_estimators=n_estimators, random_state=0)\n",
    "    modelo_ab.fit(X_train, y_train)\n",
    "    \n",
    "    score_val = modelo_ab.score(X_test, y_test)\n",
    "    \n",
    "    if score_val > mejor_score: \n",
    "        mejor_score = score_val\n",
    "        mejor_min_samples_leaf = min_samples_leaf\n",
    "        mejor_modelo_ab = modelo_ab\n",
    "\n",
    "modelo_ab = mejor_modelo_ab\n",
    "modelo_ab.fit(X_train, y_train)\n",
    "\n",
    "print (\"Mejor valor de min_samples_leaf :\", mejor_min_samples_leaf)\n",
    "print (\"Exactitud de AdaBoost en conjunto de entrenamiento :\", modelo_ab.score(X_train, y_train))\n",
    "print (\"Exactitud de AdaBoost en conjunto de validación    :\", mejor_score)"
   ]
  },
  {
   "cell_type": "code",
   "execution_count": 73,
   "metadata": {
    "collapsed": false
   },
   "outputs": [
    {
     "name": "stdout",
     "output_type": "stream",
     "text": [
      "[[ 8  0  0  0  0  0  0]\n",
      " [ 0 10  0  0  0  0  0]\n",
      " [ 0  0  9  0  0  0  0]\n",
      " [ 0  0  0  9  0  0  0]\n",
      " [ 0  0  0  0  9  0  0]\n",
      " [ 0  0  0  0  0  7  0]\n",
      " [ 0  0  0  0  0  0  6]]\n",
      "             precision    recall  f1-score   support\n",
      "\n",
      "  Amphibian       1.00      1.00      1.00         8\n",
      "       Bird       1.00      1.00      1.00        10\n",
      "        Bug       1.00      1.00      1.00         9\n",
      "       Fish       1.00      1.00      1.00         9\n",
      "Invertebrat       1.00      1.00      1.00         9\n",
      "     Mammal       1.00      1.00      1.00         7\n",
      "    Reptile       1.00      1.00      1.00         6\n",
      "\n",
      "avg / total       1.00      1.00      1.00        58\n",
      "\n"
     ]
    }
   ],
   "source": [
    "predictions = modelo_ab.predict(X_test)\n",
    "predictedNames = getLabeledResult(predictions)\n",
    "testNames = getLabeledResult(Y_test)\n",
    "print(confusion_matrix(testNames, predictedNames))\n",
    "print(classification_report(testNames, predictedNames))"
   ]
  },
  {
   "cell_type": "code",
   "execution_count": null,
   "metadata": {
    "collapsed": true
   },
   "outputs": [],
   "source": []
  }
 ],
 "metadata": {
  "kernelspec": {
   "display_name": "Python 3",
   "language": "python",
   "name": "python3"
  },
  "language_info": {
   "codemirror_mode": {
    "name": "ipython",
    "version": 3
   },
   "file_extension": ".py",
   "mimetype": "text/x-python",
   "name": "python",
   "nbconvert_exporter": "python",
   "pygments_lexer": "ipython3",
   "version": "3.6.0"
  }
 },
 "nbformat": 4,
 "nbformat_minor": 2
}
