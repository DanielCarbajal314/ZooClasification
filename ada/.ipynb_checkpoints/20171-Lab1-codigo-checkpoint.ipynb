{
 "cells": [
  {
   "cell_type": "markdown",
   "metadata": {},
   "source": [
    "# Análisis de Datos - Laboratorio 01"
   ]
  },
  {
   "cell_type": "markdown",
   "metadata": {},
   "source": [
    "### Dataset: University\n",
    "Fuente: https://archive.ics.uci.edu/ml/datasets/University"
   ]
  },
  {
   "cell_type": "code",
   "execution_count": null,
   "metadata": {
    "collapsed": true
   },
   "outputs": [],
   "source": [
    "%reload_ext autoreload\n",
    "%autoreload 1\n",
    "%aimport helper"
   ]
  },
  {
   "cell_type": "code",
   "execution_count": null,
   "metadata": {
    "collapsed": true
   },
   "outputs": [],
   "source": [
    "reload(helper)\n",
    "import helper\n",
    "import pandas as pd\n",
    "\n",
    "univ_data = helper.data_to_csv(\"university.data\")\n",
    "univ_data.tail()"
   ]
  },
  {
   "cell_type": "code",
   "execution_count": null,
   "metadata": {
    "collapsed": true
   },
   "outputs": [],
   "source": [
    "univ_data.info()"
   ]
  },
  {
   "cell_type": "code",
   "execution_count": null,
   "metadata": {
    "collapsed": true
   },
   "outputs": [],
   "source": [
    "# Descripción del dataset:\n",
    "f = open('university.names', 'r')\n",
    "print f.read()\n",
    "f.close()"
   ]
  },
  {
   "cell_type": "markdown",
   "metadata": {},
   "source": [
    "<hr>\n",
    "### Pregunta 1 (2 ptos):\n",
    "#### Clasifique los siguientes atributos según su tipo de dato (Nominal, Ordinal, Discreto, Continuo, Binario, Multiple) :"
   ]
  },
  {
   "cell_type": "markdown",
   "metadata": {},
   "source": [
    "##### <font color=\"red\">NOTA: Puede haber más de una opción correcta </color>"
   ]
  },
  {
   "cell_type": "code",
   "execution_count": null,
   "metadata": {
    "collapsed": true
   },
   "outputs": [],
   "source": [
    "#def-instance"
   ]
  },
  {
   "cell_type": "code",
   "execution_count": null,
   "metadata": {
    "collapsed": true
   },
   "outputs": [],
   "source": [
    "#at-verbal"
   ]
  },
  {
   "cell_type": "code",
   "execution_count": null,
   "metadata": {
    "collapsed": true
   },
   "outputs": [],
   "source": [
    "#academic-emphasis"
   ]
  },
  {
   "cell_type": "code",
   "execution_count": null,
   "metadata": {
    "collapsed": true
   },
   "outputs": [],
   "source": [
    "#percent-admittance"
   ]
  },
  {
   "cell_type": "markdown",
   "metadata": {},
   "source": [
    "<hr>\n",
    "### Pregunta 2 (2 ptos):\n",
    "#### Identifique los atributos con los siguientes problemas:"
   ]
  },
  {
   "cell_type": "markdown",
   "metadata": {},
   "source": [
    "<b>(a) Valores faltantes:</b>"
   ]
  },
  {
   "cell_type": "code",
   "execution_count": null,
   "metadata": {
    "collapsed": true
   },
   "outputs": [],
   "source": [
    "#Genere el listado automáticamente\n"
   ]
  },
  {
   "cell_type": "markdown",
   "metadata": {},
   "source": [
    "<b> (b) Valores inconsistentes (atributos en el DataFrame que tienen un tipo de dato inconsistente respecto a la naturaleza de la variable): </b>"
   ]
  },
  {
   "cell_type": "code",
   "execution_count": null,
   "metadata": {
    "collapsed": true
   },
   "outputs": [],
   "source": [
    "#Puede listarlos manualmente.\n",
    "#Comente el motivo por el cual los considera inconsistentes\n"
   ]
  },
  {
   "cell_type": "markdown",
   "metadata": {},
   "source": [
    "<hr>\n",
    "### Pregunta 3 (3 ptos):\n",
    "#### Valores faltantes: ¿Debo eliminar algún atributo o registro?"
   ]
  },
  {
   "cell_type": "markdown",
   "metadata": {},
   "source": [
    "Rpta: El(los) atributo(s) \"...\" porque ...."
   ]
  },
  {
   "cell_type": "code",
   "execution_count": null,
   "metadata": {
    "collapsed": true
   },
   "outputs": [],
   "source": [
    "# Análisis y eliminación de atributo(s) ...\n"
   ]
  },
  {
   "cell_type": "markdown",
   "metadata": {},
   "source": [
    "Rpta: El(los) registro(s) \"...\" porque ...."
   ]
  },
  {
   "cell_type": "code",
   "execution_count": null,
   "metadata": {
    "collapsed": true
   },
   "outputs": [],
   "source": [
    "# Análisis y eliminación de registro(s) ...\n"
   ]
  },
  {
   "cell_type": "markdown",
   "metadata": {},
   "source": [
    "<hr>\n",
    "### Pregunta 4 (6 ptos):\n",
    "#### Valores faltantes: Completar los atributos \"sat-verbal\" y \"sat-math\" según..."
   ]
  },
  {
   "cell_type": "code",
   "execution_count": null,
   "metadata": {
    "collapsed": true
   },
   "outputs": [],
   "source": [
    "#Guarde una copia del DataFrame o de las Series para realizar las 2 modificaciones sin problemas:\n",
    "# get copy of dataframe\n",
    "df = univ_data"
   ]
  },
  {
   "cell_type": "markdown",
   "metadata": {},
   "source": [
    "#### (a) ¿Moda, Media o Mediana? (2p)"
   ]
  },
  {
   "cell_type": "code",
   "execution_count": null,
   "metadata": {
    "collapsed": true
   },
   "outputs": [],
   "source": [
    "#Elija una de las 3 alternativas y expliqué por qué sería la mejor opción con respecto a las otras 2\n"
   ]
  },
  {
   "cell_type": "markdown",
   "metadata": {},
   "source": [
    "#### (b) Por agrupamiento de alguno de los siguientes 3 atributos: state, control, location (4p)"
   ]
  },
  {
   "cell_type": "code",
   "execution_count": null,
   "metadata": {
    "collapsed": true
   },
   "outputs": [],
   "source": [
    "#Complete previamente los valores faltantes de \"state\", \"control\" y \"location\" con el método que crea conveniente\n",
    "#Sustentar su elección.\n"
   ]
  },
  {
   "cell_type": "code",
   "execution_count": null,
   "metadata": {
    "collapsed": true
   },
   "outputs": [],
   "source": [
    "#Complete \"sat-verbal\" y \"sat-math\" por agrupamiento de alguna de las 3 variables\n"
   ]
  },
  {
   "cell_type": "markdown",
   "metadata": {},
   "source": [
    "<hr>\n",
    "### Pregunta 5 (4 ptos):"
   ]
  },
  {
   "cell_type": "markdown",
   "metadata": {
    "collapsed": true
   },
   "source": [
    "#### Transformación y generación de variables: "
   ]
  },
  {
   "cell_type": "markdown",
   "metadata": {},
   "source": [
    "<b>(a) ¿Qué atributos pueden ser transformados de valores textuales a numéricos?\n",
    "<br> Realice la transformación de al menos uno de ellos y genere los nuevos atributos necesarios</b>"
   ]
  },
  {
   "cell_type": "code",
   "execution_count": null,
   "metadata": {
    "collapsed": true
   },
   "outputs": [],
   "source": [
    "#Sugerencia: puede usar el método \"split\" de la siguiente forma:\n",
    "x = \"eat,sleep,code,10\"\n",
    "y = x.split(\",\")\n",
    "print y\n",
    "#El último caracter se castea a entero:\n",
    "print type(y[-1]), type(int(y[-1]))"
   ]
  },
  {
   "cell_type": "code",
   "execution_count": null,
   "metadata": {
    "collapsed": true
   },
   "outputs": [],
   "source": [
    "#Liste los atributos (puede ser de forma manual), comente brevemente el motivo\n"
   ]
  },
  {
   "cell_type": "code",
   "execution_count": null,
   "metadata": {
    "collapsed": true
   },
   "outputs": [],
   "source": [
    "#Realice la transformación de uno de los atributos\n",
    "#No necesariamente tiene que reemplazar el atributo, puede generar atributos nuevos\n"
   ]
  },
  {
   "cell_type": "markdown",
   "metadata": {},
   "source": [
    "<b>(b) Algunos algoritmos de aprendizaje de máquina no son efectivos con atributos nominales, por lo que se procura \n",
    "generar nuevos atributos con valores binarios (0 y 1) para cada valor nominal. </b><br>Referencia(s): https://goo.gl/tuPh4K (y para conocer mas detalle: https://goo.gl/HssyIT)<b>\n",
    "<br><br> Elija un atributo (\"State\", \"Control\", \"Location\") y realice este procedimiento (<i>one-hot-encoding</i>)</b>"
   ]
  },
  {
   "cell_type": "code",
   "execution_count": null,
   "metadata": {
    "collapsed": true
   },
   "outputs": [],
   "source": [
    "#Guiarse de los enlaces de referencia\n"
   ]
  },
  {
   "cell_type": "markdown",
   "metadata": {},
   "source": [
    "<hr>\n",
    "### Pregunta 6 (3 ptos):"
   ]
  },
  {
   "cell_type": "markdown",
   "metadata": {},
   "source": [
    "<b>(a) Complete todas los atributos con valores faltantes usando alguna de las tecnicas propuestas en la pregunta 4\n",
    "<br>(b) Use <i>one-hot-encoding</i> para los 2 atributos restantes de la pregunta 5b.\n",
    "<br>(c) Transforme un atributo adicional de su listado en la pregunta 5a.</b>"
   ]
  },
  {
   "cell_type": "code",
   "execution_count": null,
   "metadata": {
    "collapsed": true
   },
   "outputs": [],
   "source": [
    "#a\n"
   ]
  },
  {
   "cell_type": "code",
   "execution_count": null,
   "metadata": {
    "collapsed": true
   },
   "outputs": [],
   "source": [
    "#b\n"
   ]
  },
  {
   "cell_type": "code",
   "execution_count": null,
   "metadata": {
    "collapsed": true
   },
   "outputs": [],
   "source": [
    "#c\n"
   ]
  }
 ],
 "metadata": {
  "anaconda-cloud": {},
  "kernelspec": {
   "display_name": "Python 3",
   "language": "python",
   "name": "python3"
  },
  "language_info": {
   "codemirror_mode": {
    "name": "ipython",
    "version": 3
   },
   "file_extension": ".py",
   "mimetype": "text/x-python",
   "name": "python",
   "nbconvert_exporter": "python",
   "pygments_lexer": "ipython3",
   "version": "3.6.0"
  }
 },
 "nbformat": 4,
 "nbformat_minor": 2
}
